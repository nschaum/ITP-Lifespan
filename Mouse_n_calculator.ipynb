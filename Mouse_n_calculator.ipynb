{
 "cells": [
  {
   "cell_type": "code",
   "execution_count": 1,
   "id": "cc81002f-cdcf-47f3-bcfc-436dd012dc7f",
   "metadata": {},
   "outputs": [
    {
     "name": "stdout",
     "output_type": "stream",
     "text": [
      "Required mice for purchase age 100, desired age 913, and 99.0% confidence: 22.222651583440676\n"
     ]
    }
   ],
   "source": [
    "import pandas as pd\n",
    "import numpy as np\n",
    "from lifelines import KaplanMeierFitter\n",
    "\n",
    "# Load data from the specified path on your machine\n",
    "data = pd.read_csv(\"C:/Users/ndsch/Data/ITP-Lifespan-Data/ITP_processed_data/ITP_2004-2017_concat.csv\")\n",
    "\n",
    "# Filter for Control treatment\n",
    "control_data = data[data['treatment'] == 'Control']\n",
    "ages = control_data['age(days)']\n",
    "events = control_data['dead']\n",
    "\n",
    "def calculate_required_mice_with_purchase_age(n_mice, purchase_age, desired_age, confidence_level):\n",
    "    kmf = KaplanMeierFitter()\n",
    "    kmf.fit(ages, event_observed=events, timeline=np.arange(0, max(ages)+1, 1))\n",
    "\n",
    "    # Survival probability at purchase age\n",
    "    surv_prob_at_purchase = kmf.predict(purchase_age)\n",
    "\n",
    "    # Adjusted survival probability at desired age\n",
    "    adjusted_surv_prob = kmf.predict(desired_age) / surv_prob_at_purchase\n",
    "\n",
    "    # Calculate the lower bound of the confidence interval\n",
    "    lower_bound = adjusted_surv_prob - (1 - confidence_level)/2  # Assuming symmetric CI\n",
    "\n",
    "    # Calculate required mice\n",
    "    required_mice = n_mice / lower_bound\n",
    "\n",
    "    return required_mice, lower_bound\n",
    "\n",
    "# Calculate required mice for a given purchase, desired age, and confidence level\n",
    "purchase_age = 100  # Example value\n",
    "desired_age = 913   # Example value\n",
    "n_mice = 8          # Example value\n",
    "confidence_level = 0.99  # Example value (0.95 for 95%, 0.99 for 99%, etc.)\n",
    "required_mice, lower_bound = calculate_required_mice_with_purchase_age(n_mice, purchase_age, desired_age, confidence_level)\n",
    "\n",
    "print(f\"Required mice for purchase age {purchase_age}, desired age {desired_age}, and {confidence_level*100}% confidence: {required_mice}\")\n"
   ]
  }
 ],
 "metadata": {
  "kernelspec": {
   "display_name": "Python 3 (ipykernel)",
   "language": "python",
   "name": "python3"
  },
  "language_info": {
   "codemirror_mode": {
    "name": "ipython",
    "version": 3
   },
   "file_extension": ".py",
   "mimetype": "text/x-python",
   "name": "python",
   "nbconvert_exporter": "python",
   "pygments_lexer": "ipython3",
   "version": "3.10.10"
  }
 },
 "nbformat": 4,
 "nbformat_minor": 5
}
